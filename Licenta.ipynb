{
 "cells": [
  {
   "cell_type": "code",
   "execution_count": null,
   "metadata": {},
   "outputs": [],
   "source": [
    "import json\n",
    "import pandas as pd\n",
    "from pathlib import Path\n",
    "\n",
    "import json\n",
    "import pandas as pd\n",
    "from pathlib import Path\n",
    "\n",
    "def stream_jsonl_to_parquet(jsonl_path, output_folder, batch_size=10000):\n",
    "    buffer = []\n",
    "    batch_num = 0\n",
    "\n",
    "    output_folder = Path(output_folder)\n",
    "    output_folder.mkdir(parents=True, exist_ok=True)\n",
    "\n",
    "    print(f\"Processing {jsonl_path}...\")\n",
    "\n",
    "    with open(jsonl_path, \"r\") as f:\n",
    "        for i, line in enumerate(f):\n",
    "            try:\n",
    "                obj = json.loads(line)\n",
    "                if obj.get(\"label\") in [0, 1]:\n",
    "                    buffer.append(obj)\n",
    "\n",
    "                if len(buffer) >= batch_size:\n",
    "                    df = pd.DataFrame(buffer)\n",
    "                    output_path = output_folder / f\"batch_{batch_num}.parquet\"\n",
    "                    df.to_parquet(output_path, index=False, engine=\"pyarrow\", compression='snappy')\n",
    "                    print(f\"  Saved batch {batch_num} with {len(df)} rows to {output_path}\")\n",
    "                    buffer.clear()\n",
    "                    batch_num += 1\n",
    "\n",
    "                    break\n",
    "\n",
    "            except json.JSONDecodeError as e:\n",
    "                print(f\"  Skipping line {i} due to JSON error: {e}\")\n",
    "\n",
    "    # Save any leftover rows\n",
    "    if buffer:\n",
    "        df = pd.DataFrame(buffer)\n",
    "        output_path = output_folder / f\"batch_{batch_num}.parquet\"\n",
    "        df.to_parquet(output_path, index=False, engine=\"pyarrow\", compression='snappy')\n",
    "        print(f\"  Saved final batch {batch_num} with {len(df)} rows to {output_path}\")\n",
    "\n",
    "    print(f\"Finished processing {jsonl_path}\")\n",
    "\n",
    "\n",
    "# Open and process the JSONL file\n",
    "input_file = \"F://ember//train_features_1.jsonl\"\n",
    "output_dir = \"F://ember//parquet_batches\"\n",
    "\n",
    "stream_jsonl_to_parquet(input_file, output_dir)\n",
    "\n",
    "\n"
   ]
  },
  {
   "cell_type": "code",
   "execution_count": null,
   "metadata": {},
   "outputs": [],
   "source": []
  },
  {
   "cell_type": "code",
   "execution_count": null,
   "metadata": {},
   "outputs": [],
   "source": [
    "#df = pd.read_parquet(\"F://ember2018//parquet_batches_0//batch_0.parquet\")\n",
    "df = pd.read_parquet(\"F://ember//parquet_batches//batch_0.parquet\")\n",
    "row = df.iloc[0]\n",
    "\n",
    "print(df.columns.tolist())\n",
    "print(row[\"header\"][\"optional\"].keys())"
   ]
  },
  {
   "cell_type": "code",
   "execution_count": null,
   "metadata": {},
   "outputs": [],
   "source": [
    "import matplotlib.pyplot as plt\n",
    "\n",
    "df[\"label\"].value_counts().plot(kind=\"bar\", title=\"Malware vs Benign Distribution\")\n",
    "plt.xticks(ticks=[0, 1], labels=[\"Benign (0)\", \"Malware (1)\"])\n",
    "plt.ylabel(\"Count\")\n",
    "plt.show()"
   ]
  },
  {
   "cell_type": "code",
   "execution_count": null,
   "metadata": {},
   "outputs": [],
   "source": [
    "print(df.columns.tolist())\n",
    "print(df.iloc[0])"
   ]
  },
  {
   "cell_type": "code",
   "execution_count": 4,
   "metadata": {},
   "outputs": [
    {
     "name": "stdout",
     "output_type": "stream",
     "text": [
      "Feature vector shape: (2351,)\n",
      "SHA256 of file: 7bc58a214bb9c0f06a1ee0a7a3a0524f81653caf160b7084861ea6c6c8fd4e21\n",
      "Extracted features:  {'UnityPlayer.dll': ['UnityMain'], 'KERNEL32.dll': ['HeapAlloc', 'WriteConsoleW', 'QueryPerformanceCounter', 'GetCurrentProcessId', 'GetCurrentThreadId', 'GetSystemTimeAsFileTime', 'InitializeSListHead', 'RtlCaptureContext', 'RtlLookupFunctionEntry', 'RtlVirtualUnwind', 'IsDebuggerPresent', 'UnhandledExceptionFilter', 'SetUnhandledExceptionFilter', 'GetStartupInfoW', 'IsProcessorFeaturePresent', 'GetModuleHandleW', 'CloseHandle', 'RtlUnwindEx', 'GetLastError', 'SetLastError', 'EnterCriticalSection', 'LeaveCriticalSection', 'DeleteCriticalSection', 'InitializeCriticalSectionAndSpinCount', 'TlsAlloc', 'TlsGetValue', 'TlsSetValue', 'TlsFree', 'FreeLibrary', 'GetProcAddress', 'LoadLibraryExW', 'EncodePointer', 'RaiseException', 'RtlPcToFileHeader', 'GetStdHandle', 'WriteFile', 'GetModuleFileNameW', 'GetCurrentProcess', 'ExitProcess', 'TerminateProcess', 'GetModuleHandleExW', 'HeapFree', 'FindClose', 'FindFirstFileExW', 'FindNextFileW', 'IsValidCodePage', 'GetACP', 'GetOEMCP', 'GetCPInfo', 'GetCommandLineA', 'GetCommandLineW', 'MultiByteToWideChar', 'WideCharToMultiByte', 'GetEnvironmentStringsW', 'FreeEnvironmentStringsW', 'SetStdHandle', 'GetFileType', 'GetStringTypeW', 'FlsAlloc', 'FlsGetValue', 'FlsSetValue', 'FlsFree', 'LCMapStringW', 'GetProcessHeap', 'HeapSize', 'HeapReAlloc', 'FlushFileBuffers', 'GetConsoleOutputCP', 'GetConsoleMode', 'SetFilePointerEx', 'CreateFileW']}\n",
      "First 10 values of vector: [3.7506545e-01 5.3714658e-03 1.0070568e-03 9.1631757e-04 9.3714299e-04\n",
      " 7.8392756e-04 4.7600913e-04 4.4923363e-04 1.3179503e-03 6.4409984e-04\n",
      " 8.1962824e-04 3.5105675e-04 5.8013614e-04 5.7716109e-04 2.3800456e-04\n",
      " 2.1137781e-03 1.1929979e-03 4.3584587e-04 2.7370526e-04 4.7749668e-04\n",
      " 4.2989576e-04 6.2624953e-04 2.6180502e-04 2.7073020e-04 6.9170078e-04\n",
      " 4.0014519e-04 4.1948305e-04 3.9270753e-04 5.1319733e-04 5.4889807e-04\n",
      " 5.9203635e-04 1.3655513e-03 2.7340774e-03 1.8370978e-03 2.3443450e-03\n",
      " 2.3339323e-03 4.5979507e-03 3.0776965e-03 3.1550480e-03 3.3424767e-03\n",
      " 4.2915200e-03 4.2766444e-03 5.7656607e-03 6.1256425e-03 5.1126354e-03\n",
      " 5.9173885e-03 5.2212253e-03 4.0535154e-03 4.1412795e-03 3.5432931e-03\n",
      " 4.1011162e-03 4.2602816e-03 2.7504403e-03 1.9709754e-03 1.5038914e-03\n",
      " 1.3090251e-03 1.8906489e-03 1.9471749e-03 2.2506306e-03 3.0271206e-03\n",
      " 3.3082636e-03 4.2900322e-03 5.2851890e-03 5.7314476e-03 5.7760733e-03\n",
      " 4.1383044e-03 3.1401727e-03 3.8422863e-03 5.2361004e-03 5.3684907e-03\n",
      " 4.3911845e-03 3.4242908e-03 9.4011808e-03 3.8556741e-03 3.4257784e-03\n",
      " 3.6221321e-03 4.8047174e-03 3.0881092e-03 1.6318188e-03 1.0665579e-03\n",
      " 1.6466941e-03 1.8742860e-03 2.4663224e-03 2.9453065e-03 3.6474201e-03\n",
      " 3.7009711e-03 3.3692522e-03 2.8843179e-03 2.2149300e-03 1.7567712e-03\n",
      " 1.3655513e-03 1.6035557e-03 2.2803813e-03 2.2030298e-03 2.6269755e-03\n",
      " 3.4094155e-03 3.8095606e-03 3.8140232e-03 3.0048077e-03 3.0821592e-03]\n"
     ]
    }
   ],
   "source": [
    "from feature_extractors.pe_feature import PEFeatureExtractor\n",
    "\n",
    "\n",
    "path = \"C://Users//Alisa//Desktop//Unity app//CatKyu!! v3//CatKyu!!.exe\"\n",
    "with open(path, \"rb\") as f:\n",
    "    bytez = f.read()\n",
    "extractor = PEFeatureExtractor()\n",
    "\n",
    "# Extract the raw feature dict\n",
    "raw = extractor.raw_features(bytez)\n",
    "\n",
    "# Turn it into a flat vector (normalized)\n",
    "vector = extractor.process_raw_features(raw)\n",
    "\n",
    "print(\"Feature vector shape:\", vector.shape)\n",
    "print(\"SHA256 of file:\", raw['sha256'])\n",
    "print(\"Extracted features: \", raw['imports'])\n",
    "print(\"First 10 values of vector:\", vector[:100])"
   ]
  },
  {
   "cell_type": "code",
   "execution_count": 2,
   "metadata": {},
   "outputs": [
    {
     "name": "stdout",
     "output_type": "stream",
     "text": [
      "Vectorizing training set\n"
     ]
    },
    {
     "name": "stderr",
     "output_type": "stream",
     "text": [
      "100%|██████████| 600000/600000 [16:12<00:00, 616.71it/s]\n"
     ]
    },
    {
     "name": "stdout",
     "output_type": "stream",
     "text": [
      "Vectorizing testing set\n"
     ]
    },
    {
     "name": "stderr",
     "output_type": "stream",
     "text": [
      "100%|██████████| 200000/200000 [04:58<00:00, 669.28it/s]\n"
     ]
    }
   ],
   "source": [
    "import feature_extractors\n",
    "data_dir = \"F://ember_dataset//ember\"\n",
    "\n",
    "feature_extractors.create_vectorized_features(data_dir)\n",
    "X_train, y_train, X_test, y_test = feature_extractors.read_vectorized_features(data_dir)\n"
   ]
  },
  {
   "cell_type": "code",
   "execution_count": 1,
   "metadata": {},
   "outputs": [
    {
     "name": "stdout",
     "output_type": "stream",
     "text": [
      "1.26.4\n"
     ]
    }
   ],
   "source": [
    "import numpy as np\n",
    "print(np.__version__)\n"
   ]
  },
  {
   "cell_type": "code",
   "execution_count": 3,
   "metadata": {},
   "outputs": [],
   "source": [
    "import torch\n",
    "import torch.nn as nn\n",
    "import torch.optim as optim\n",
    "\n",
    "class DNN(nn.Module):\n",
    "    def __init__(self, input_dim=2351):\n",
    "        super().__init__()\n",
    "        self.net = nn.Sequential(\n",
    "            nn.Linear(input_dim, 1024),\n",
    "            nn.ReLU(),\n",
    "            nn.BatchNorm1d(1024),\n",
    "\n",
    "            nn.Linear(1024, 512),\n",
    "            nn.ReLU(),\n",
    "            nn.BatchNorm1d(512),\n",
    "\n",
    "            nn.Linear(512, 256),\n",
    "            nn.ReLU(),\n",
    "            nn.BatchNorm1d(256),\n",
    "\n",
    "            nn.Linear(256, 128),\n",
    "            nn.ReLU(),\n",
    "            nn.BatchNorm1d(128),\n",
    "\n",
    "            nn.Linear(128, 1),\n",
    "            nn.Sigmoid()\n",
    "        )\n",
    "\n",
    "    def forward(self, x):\n",
    "        return self.net(x)"
   ]
  },
  {
   "cell_type": "code",
   "execution_count": 8,
   "metadata": {},
   "outputs": [
    {
     "name": "stdout",
     "output_type": "stream",
     "text": [
      "X_train shape: (600000, 2351)\n",
      "y_train shape: (600000,)\n",
      "X_test shape: (200000, 2351)\n",
      "y_test shape: (200000,)\n"
     ]
    }
   ],
   "source": [
    "import numpy as np\n",
    "from sklearn.model_selection import train_test_split\n",
    "import feature_extractors\n",
    "data_dir = \"F://ember\"\n",
    "\n",
    "X, y = feature_extractors.read_vectorized_features(data_dir)\n",
    "i, j, k = 0, 600000, 800000  \n",
    "\n",
    "X_train = X[i:j]\n",
    "y_train = y[i:j]\n",
    "\n",
    "X_test = X[j:k]\n",
    "y_test = y[j:k]\n",
    "\n",
    "\n",
    "print(\"X_train shape:\", X_train.shape)\n",
    "print(\"y_train shape:\", y_train.shape)\n",
    "print(\"X_test shape:\", X_test.shape)\n",
    "print(\"y_test shape:\", y_test.shape)"
   ]
  },
  {
   "cell_type": "code",
   "execution_count": 32,
   "metadata": {},
   "outputs": [],
   "source": [
    "from sklearn.model_selection import train_test_split\n",
    "X1_train, X1_test, y1_train, y1_test = train_test_split(X_train[300000:400000], y_train[300000:400000], test_size=0.2, random_state=19, stratify=y_train[300000:400000])"
   ]
  },
  {
   "cell_type": "code",
   "execution_count": 33,
   "metadata": {},
   "outputs": [
    {
     "name": "stdout",
     "output_type": "stream",
     "text": [
      "(80000, 2351) (80000,)\n",
      "41127\n"
     ]
    }
   ],
   "source": [
    "print(X1_train.shape, y1_train.shape)\n",
    "count_ones = int((y1_train[0:80000] == 1).sum())\n",
    "print(count_ones)"
   ]
  },
  {
   "cell_type": "code",
   "execution_count": 35,
   "metadata": {},
   "outputs": [],
   "source": [
    "import torch.optim as optim\n",
    "from torch.utils.data import DataLoader, TensorDataset\n",
    "import torch\n",
    "\n",
    "# Assuming you already have X_train, y_train as numpy arrays, you can create a DataLoader\n",
    "\n",
    "# Convert your data to PyTorch tensors\n",
    "X_train_tensor = torch.from_numpy(X1_train).float()  # Assuming X_train is a NumPy array\n",
    "y_train_tensor = torch.from_numpy(y1_train).float()  # Assuming y_train is a NumPy array\n",
    "\n",
    "# Create a TensorDataset and DataLoader\n",
    "train_dataset = TensorDataset(X_train_tensor, y_train_tensor)\n",
    "batch_size = 1024  # Choose an appropriate batch size that doesn't overload your RAM\n",
    "train_loader = DataLoader(train_dataset, batch_size=batch_size, shuffle=True)"
   ]
  },
  {
   "cell_type": "code",
   "execution_count": 12,
   "metadata": {},
   "outputs": [],
   "source": [
    "train_loader = DataLoader(train_ds, batch_size=2048, shuffle=True)\n",
    "test_loader  = DataLoader(test_ds, batch_size=2048)"
   ]
  },
  {
   "cell_type": "code",
   "execution_count": null,
   "metadata": {},
   "outputs": [],
   "source": [
    "def accuracy_fn(y_true, y_pred):\n",
    "    correct = torch.eq(y_true, y_pred).sum().item() # torch.eq() calculates where two tensors are equal\n",
    "    acc = (correct / len(y_pred)) * 100 \n",
    "    return acc"
   ]
  },
  {
   "cell_type": "code",
   "execution_count": 26,
   "metadata": {},
   "outputs": [
    {
     "name": "stdout",
     "output_type": "stream",
     "text": [
      "Starting Epoch [1/2000]\n",
      "Starting Epoch [2/2000]\n"
     ]
    },
    {
     "ename": "KeyboardInterrupt",
     "evalue": "",
     "output_type": "error",
     "traceback": [
      "\u001b[1;31m---------------------------------------------------------------------------\u001b[0m",
      "\u001b[1;31mKeyboardInterrupt\u001b[0m                         Traceback (most recent call last)",
      "Cell \u001b[1;32mIn[26], line 18\u001b[0m\n\u001b[0;32m     16\u001b[0m \u001b[38;5;28;01mfor\u001b[39;00m xb, yb \u001b[38;5;129;01min\u001b[39;00m train_loader:\n\u001b[0;32m     17\u001b[0m     optimizer\u001b[38;5;241m.\u001b[39mzero_grad()  \u001b[38;5;66;03m# Zero the gradients\u001b[39;00m\n\u001b[1;32m---> 18\u001b[0m     preds \u001b[38;5;241m=\u001b[39m model(xb)  \u001b[38;5;66;03m# Get predictions\u001b[39;00m\n\u001b[0;32m     20\u001b[0m     loss \u001b[38;5;241m=\u001b[39m criterion(preds, yb\u001b[38;5;241m.\u001b[39munsqueeze(\u001b[38;5;241m1\u001b[39m))  \u001b[38;5;66;03m# Calculate loss (note the unsqueeze to match dims)\u001b[39;00m\n\u001b[0;32m     21\u001b[0m     loss\u001b[38;5;241m.\u001b[39mbackward()  \u001b[38;5;66;03m# Backpropagate the gradients\u001b[39;00m\n",
      "File \u001b[1;32mf:\\Anaconda\\Lib\\site-packages\\torch\\nn\\modules\\module.py:1751\u001b[0m, in \u001b[0;36mModule._wrapped_call_impl\u001b[1;34m(self, *args, **kwargs)\u001b[0m\n\u001b[0;32m   1749\u001b[0m     \u001b[38;5;28;01mreturn\u001b[39;00m \u001b[38;5;28mself\u001b[39m\u001b[38;5;241m.\u001b[39m_compiled_call_impl(\u001b[38;5;241m*\u001b[39margs, \u001b[38;5;241m*\u001b[39m\u001b[38;5;241m*\u001b[39mkwargs)  \u001b[38;5;66;03m# type: ignore[misc]\u001b[39;00m\n\u001b[0;32m   1750\u001b[0m \u001b[38;5;28;01melse\u001b[39;00m:\n\u001b[1;32m-> 1751\u001b[0m     \u001b[38;5;28;01mreturn\u001b[39;00m \u001b[38;5;28mself\u001b[39m\u001b[38;5;241m.\u001b[39m_call_impl(\u001b[38;5;241m*\u001b[39margs, \u001b[38;5;241m*\u001b[39m\u001b[38;5;241m*\u001b[39mkwargs)\n",
      "File \u001b[1;32mf:\\Anaconda\\Lib\\site-packages\\torch\\nn\\modules\\module.py:1762\u001b[0m, in \u001b[0;36mModule._call_impl\u001b[1;34m(self, *args, **kwargs)\u001b[0m\n\u001b[0;32m   1757\u001b[0m \u001b[38;5;66;03m# If we don't have any hooks, we want to skip the rest of the logic in\u001b[39;00m\n\u001b[0;32m   1758\u001b[0m \u001b[38;5;66;03m# this function, and just call forward.\u001b[39;00m\n\u001b[0;32m   1759\u001b[0m \u001b[38;5;28;01mif\u001b[39;00m \u001b[38;5;129;01mnot\u001b[39;00m (\u001b[38;5;28mself\u001b[39m\u001b[38;5;241m.\u001b[39m_backward_hooks \u001b[38;5;129;01mor\u001b[39;00m \u001b[38;5;28mself\u001b[39m\u001b[38;5;241m.\u001b[39m_backward_pre_hooks \u001b[38;5;129;01mor\u001b[39;00m \u001b[38;5;28mself\u001b[39m\u001b[38;5;241m.\u001b[39m_forward_hooks \u001b[38;5;129;01mor\u001b[39;00m \u001b[38;5;28mself\u001b[39m\u001b[38;5;241m.\u001b[39m_forward_pre_hooks\n\u001b[0;32m   1760\u001b[0m         \u001b[38;5;129;01mor\u001b[39;00m _global_backward_pre_hooks \u001b[38;5;129;01mor\u001b[39;00m _global_backward_hooks\n\u001b[0;32m   1761\u001b[0m         \u001b[38;5;129;01mor\u001b[39;00m _global_forward_hooks \u001b[38;5;129;01mor\u001b[39;00m _global_forward_pre_hooks):\n\u001b[1;32m-> 1762\u001b[0m     \u001b[38;5;28;01mreturn\u001b[39;00m forward_call(\u001b[38;5;241m*\u001b[39margs, \u001b[38;5;241m*\u001b[39m\u001b[38;5;241m*\u001b[39mkwargs)\n\u001b[0;32m   1764\u001b[0m result \u001b[38;5;241m=\u001b[39m \u001b[38;5;28;01mNone\u001b[39;00m\n\u001b[0;32m   1765\u001b[0m called_always_called_hooks \u001b[38;5;241m=\u001b[39m \u001b[38;5;28mset\u001b[39m()\n",
      "Cell \u001b[1;32mIn[22], line 30\u001b[0m, in \u001b[0;36mDNN.forward\u001b[1;34m(self, x)\u001b[0m\n\u001b[0;32m     29\u001b[0m \u001b[38;5;28;01mdef\u001b[39;00m \u001b[38;5;21mforward\u001b[39m(\u001b[38;5;28mself\u001b[39m, x):\n\u001b[1;32m---> 30\u001b[0m     \u001b[38;5;28;01mreturn\u001b[39;00m \u001b[38;5;28mself\u001b[39m\u001b[38;5;241m.\u001b[39mnet(x)\n",
      "File \u001b[1;32mf:\\Anaconda\\Lib\\site-packages\\torch\\nn\\modules\\module.py:1751\u001b[0m, in \u001b[0;36mModule._wrapped_call_impl\u001b[1;34m(self, *args, **kwargs)\u001b[0m\n\u001b[0;32m   1749\u001b[0m     \u001b[38;5;28;01mreturn\u001b[39;00m \u001b[38;5;28mself\u001b[39m\u001b[38;5;241m.\u001b[39m_compiled_call_impl(\u001b[38;5;241m*\u001b[39margs, \u001b[38;5;241m*\u001b[39m\u001b[38;5;241m*\u001b[39mkwargs)  \u001b[38;5;66;03m# type: ignore[misc]\u001b[39;00m\n\u001b[0;32m   1750\u001b[0m \u001b[38;5;28;01melse\u001b[39;00m:\n\u001b[1;32m-> 1751\u001b[0m     \u001b[38;5;28;01mreturn\u001b[39;00m \u001b[38;5;28mself\u001b[39m\u001b[38;5;241m.\u001b[39m_call_impl(\u001b[38;5;241m*\u001b[39margs, \u001b[38;5;241m*\u001b[39m\u001b[38;5;241m*\u001b[39mkwargs)\n",
      "File \u001b[1;32mf:\\Anaconda\\Lib\\site-packages\\torch\\nn\\modules\\module.py:1762\u001b[0m, in \u001b[0;36mModule._call_impl\u001b[1;34m(self, *args, **kwargs)\u001b[0m\n\u001b[0;32m   1757\u001b[0m \u001b[38;5;66;03m# If we don't have any hooks, we want to skip the rest of the logic in\u001b[39;00m\n\u001b[0;32m   1758\u001b[0m \u001b[38;5;66;03m# this function, and just call forward.\u001b[39;00m\n\u001b[0;32m   1759\u001b[0m \u001b[38;5;28;01mif\u001b[39;00m \u001b[38;5;129;01mnot\u001b[39;00m (\u001b[38;5;28mself\u001b[39m\u001b[38;5;241m.\u001b[39m_backward_hooks \u001b[38;5;129;01mor\u001b[39;00m \u001b[38;5;28mself\u001b[39m\u001b[38;5;241m.\u001b[39m_backward_pre_hooks \u001b[38;5;129;01mor\u001b[39;00m \u001b[38;5;28mself\u001b[39m\u001b[38;5;241m.\u001b[39m_forward_hooks \u001b[38;5;129;01mor\u001b[39;00m \u001b[38;5;28mself\u001b[39m\u001b[38;5;241m.\u001b[39m_forward_pre_hooks\n\u001b[0;32m   1760\u001b[0m         \u001b[38;5;129;01mor\u001b[39;00m _global_backward_pre_hooks \u001b[38;5;129;01mor\u001b[39;00m _global_backward_hooks\n\u001b[0;32m   1761\u001b[0m         \u001b[38;5;129;01mor\u001b[39;00m _global_forward_hooks \u001b[38;5;129;01mor\u001b[39;00m _global_forward_pre_hooks):\n\u001b[1;32m-> 1762\u001b[0m     \u001b[38;5;28;01mreturn\u001b[39;00m forward_call(\u001b[38;5;241m*\u001b[39margs, \u001b[38;5;241m*\u001b[39m\u001b[38;5;241m*\u001b[39mkwargs)\n\u001b[0;32m   1764\u001b[0m result \u001b[38;5;241m=\u001b[39m \u001b[38;5;28;01mNone\u001b[39;00m\n\u001b[0;32m   1765\u001b[0m called_always_called_hooks \u001b[38;5;241m=\u001b[39m \u001b[38;5;28mset\u001b[39m()\n",
      "File \u001b[1;32mf:\\Anaconda\\Lib\\site-packages\\torch\\nn\\modules\\container.py:240\u001b[0m, in \u001b[0;36mSequential.forward\u001b[1;34m(self, input)\u001b[0m\n\u001b[0;32m    238\u001b[0m \u001b[38;5;28;01mdef\u001b[39;00m \u001b[38;5;21mforward\u001b[39m(\u001b[38;5;28mself\u001b[39m, \u001b[38;5;28minput\u001b[39m):\n\u001b[0;32m    239\u001b[0m     \u001b[38;5;28;01mfor\u001b[39;00m module \u001b[38;5;129;01min\u001b[39;00m \u001b[38;5;28mself\u001b[39m:\n\u001b[1;32m--> 240\u001b[0m         \u001b[38;5;28minput\u001b[39m \u001b[38;5;241m=\u001b[39m module(\u001b[38;5;28minput\u001b[39m)\n\u001b[0;32m    241\u001b[0m     \u001b[38;5;28;01mreturn\u001b[39;00m \u001b[38;5;28minput\u001b[39m\n",
      "File \u001b[1;32mf:\\Anaconda\\Lib\\site-packages\\torch\\nn\\modules\\module.py:1751\u001b[0m, in \u001b[0;36mModule._wrapped_call_impl\u001b[1;34m(self, *args, **kwargs)\u001b[0m\n\u001b[0;32m   1749\u001b[0m     \u001b[38;5;28;01mreturn\u001b[39;00m \u001b[38;5;28mself\u001b[39m\u001b[38;5;241m.\u001b[39m_compiled_call_impl(\u001b[38;5;241m*\u001b[39margs, \u001b[38;5;241m*\u001b[39m\u001b[38;5;241m*\u001b[39mkwargs)  \u001b[38;5;66;03m# type: ignore[misc]\u001b[39;00m\n\u001b[0;32m   1750\u001b[0m \u001b[38;5;28;01melse\u001b[39;00m:\n\u001b[1;32m-> 1751\u001b[0m     \u001b[38;5;28;01mreturn\u001b[39;00m \u001b[38;5;28mself\u001b[39m\u001b[38;5;241m.\u001b[39m_call_impl(\u001b[38;5;241m*\u001b[39margs, \u001b[38;5;241m*\u001b[39m\u001b[38;5;241m*\u001b[39mkwargs)\n",
      "File \u001b[1;32mf:\\Anaconda\\Lib\\site-packages\\torch\\nn\\modules\\module.py:1762\u001b[0m, in \u001b[0;36mModule._call_impl\u001b[1;34m(self, *args, **kwargs)\u001b[0m\n\u001b[0;32m   1757\u001b[0m \u001b[38;5;66;03m# If we don't have any hooks, we want to skip the rest of the logic in\u001b[39;00m\n\u001b[0;32m   1758\u001b[0m \u001b[38;5;66;03m# this function, and just call forward.\u001b[39;00m\n\u001b[0;32m   1759\u001b[0m \u001b[38;5;28;01mif\u001b[39;00m \u001b[38;5;129;01mnot\u001b[39;00m (\u001b[38;5;28mself\u001b[39m\u001b[38;5;241m.\u001b[39m_backward_hooks \u001b[38;5;129;01mor\u001b[39;00m \u001b[38;5;28mself\u001b[39m\u001b[38;5;241m.\u001b[39m_backward_pre_hooks \u001b[38;5;129;01mor\u001b[39;00m \u001b[38;5;28mself\u001b[39m\u001b[38;5;241m.\u001b[39m_forward_hooks \u001b[38;5;129;01mor\u001b[39;00m \u001b[38;5;28mself\u001b[39m\u001b[38;5;241m.\u001b[39m_forward_pre_hooks\n\u001b[0;32m   1760\u001b[0m         \u001b[38;5;129;01mor\u001b[39;00m _global_backward_pre_hooks \u001b[38;5;129;01mor\u001b[39;00m _global_backward_hooks\n\u001b[0;32m   1761\u001b[0m         \u001b[38;5;129;01mor\u001b[39;00m _global_forward_hooks \u001b[38;5;129;01mor\u001b[39;00m _global_forward_pre_hooks):\n\u001b[1;32m-> 1762\u001b[0m     \u001b[38;5;28;01mreturn\u001b[39;00m forward_call(\u001b[38;5;241m*\u001b[39margs, \u001b[38;5;241m*\u001b[39m\u001b[38;5;241m*\u001b[39mkwargs)\n\u001b[0;32m   1764\u001b[0m result \u001b[38;5;241m=\u001b[39m \u001b[38;5;28;01mNone\u001b[39;00m\n\u001b[0;32m   1765\u001b[0m called_always_called_hooks \u001b[38;5;241m=\u001b[39m \u001b[38;5;28mset\u001b[39m()\n",
      "File \u001b[1;32mf:\\Anaconda\\Lib\\site-packages\\torch\\nn\\modules\\linear.py:125\u001b[0m, in \u001b[0;36mLinear.forward\u001b[1;34m(self, input)\u001b[0m\n\u001b[0;32m    124\u001b[0m \u001b[38;5;28;01mdef\u001b[39;00m \u001b[38;5;21mforward\u001b[39m(\u001b[38;5;28mself\u001b[39m, \u001b[38;5;28minput\u001b[39m: Tensor) \u001b[38;5;241m-\u001b[39m\u001b[38;5;241m>\u001b[39m Tensor:\n\u001b[1;32m--> 125\u001b[0m     \u001b[38;5;28;01mreturn\u001b[39;00m F\u001b[38;5;241m.\u001b[39mlinear(\u001b[38;5;28minput\u001b[39m, \u001b[38;5;28mself\u001b[39m\u001b[38;5;241m.\u001b[39mweight, \u001b[38;5;28mself\u001b[39m\u001b[38;5;241m.\u001b[39mbias)\n",
      "\u001b[1;31mKeyboardInterrupt\u001b[0m: "
     ]
    }
   ],
   "source": [
    "model = DNN()\n",
    "optimizer = optim.Adam(model.parameters(), lr=0.1)\n",
    "criterion = nn.BCELoss()\n",
    "\n",
    "num_epochs = 2000\n",
    "loss_values = []\n",
    "acc_values = []\n",
    "for epoch in range(num_epochs):\n",
    "    print(f'Starting Epoch [{epoch+1}/{num_epochs}]')\n",
    "    model.train()  # Set the model to training mode\n",
    "    running_loss = 0.0\n",
    "    correct_preds = 0\n",
    "    total_preds = 0\n",
    "    \n",
    "    # Iterate through the data in batches\n",
    "    for xb, yb in train_loader:\n",
    "        optimizer.zero_grad()  # Zero the gradients\n",
    "        preds = model(xb)  # Get predictions\n",
    "        \n",
    "        loss = criterion(preds, yb.unsqueeze(1))  # Calculate loss (note the unsqueeze to match dims)\n",
    "        loss.backward()  # Backpropagate the gradients\n",
    "        optimizer.step()  # Update the model parameters\n",
    "\n",
    "        running_loss += loss.item()\n",
    "        \n",
    "        # Calculate accuracy for the batch\n",
    "        preds_rounded = (preds > 0.5).float()  # Round predictions to get binary labels\n",
    "        correct_preds += (preds_rounded == yb.unsqueeze(1)).sum().item()  # Compare with true labels\n",
    "        total_preds += yb.size(0)  # Count total samples\n",
    "    \n",
    "    # Calculate the average loss and accuracy for the epoch\n",
    "    avg_loss = running_loss / len(train_loader)\n",
    "    avg_acc = correct_preds / total_preds\n",
    "\n",
    "    loss_values.append(avg_loss)\n",
    "    acc_values.append(avg_acc)\n",
    "\n",
    "    # Print loss and accuracy every 100 epochs (you can adjust as needed)\n",
    "    if (epoch + 1) % 100 == 0:\n",
    "        print(f'Epoch [{epoch+1}/{num_epochs}], Loss: {avg_loss:.4f}, Acc: {avg_acc:.4f}')\n",
    "\n",
    "   \n",
    "\n",
    "    "
   ]
  },
  {
   "cell_type": "code",
   "execution_count": 37,
   "metadata": {},
   "outputs": [
    {
     "name": "stdout",
     "output_type": "stream",
     "text": [
      "[Epoch 10] Avg Loss: 0.4829, Avg Acc: 0.7617\n",
      "[Epoch 20] Avg Loss: 0.4534, Avg Acc: 0.7796\n",
      "[Epoch 30] Avg Loss: 0.4489, Avg Acc: 0.7811\n",
      "[Epoch 40] Avg Loss: 0.4223, Avg Acc: 0.7992\n",
      "[Epoch 50] Avg Loss: 0.4233, Avg Acc: 0.7983\n",
      "[Epoch 60] Avg Loss: 0.3910, Avg Acc: 0.8194\n",
      "[Epoch 70] Avg Loss: 0.4100, Avg Acc: 0.8063\n",
      "[Epoch 80] Avg Loss: 0.3765, Avg Acc: 0.8291\n",
      "[Epoch 90] Avg Loss: 0.4020, Avg Acc: 0.8151\n",
      "[Epoch 100] Avg Loss: 0.3538, Avg Acc: 0.8400\n",
      "[Epoch 110] Avg Loss: 0.3731, Avg Acc: 0.8298\n",
      "[Epoch 120] Avg Loss: 0.3293, Avg Acc: 0.8539\n",
      "[Epoch 130] Avg Loss: 0.3470, Avg Acc: 0.8438\n",
      "[Epoch 140] Avg Loss: 0.3673, Avg Acc: 0.8357\n",
      "[Epoch 150] Avg Loss: 0.3687, Avg Acc: 0.8338\n",
      "[Epoch 160] Avg Loss: 0.3367, Avg Acc: 0.8501\n",
      "[Epoch 170] Avg Loss: 0.3060, Avg Acc: 0.8654\n",
      "[Epoch 180] Avg Loss: 0.3144, Avg Acc: 0.8646\n",
      "[Epoch 190] Avg Loss: 0.3098, Avg Acc: 0.8651\n",
      "[Epoch 200] Avg Loss: 0.3006, Avg Acc: 0.8707\n",
      "[Epoch 210] Avg Loss: 0.2964, Avg Acc: 0.8745\n",
      "[Epoch 220] Avg Loss: 0.2923, Avg Acc: 0.8751\n",
      "[Epoch 230] Avg Loss: 0.2880, Avg Acc: 0.8770\n",
      "[Epoch 240] Avg Loss: 0.2784, Avg Acc: 0.8808\n",
      "[Epoch 250] Avg Loss: 0.2909, Avg Acc: 0.8765\n",
      "[Epoch 260] Avg Loss: 0.2669, Avg Acc: 0.8878\n",
      "[Epoch 270] Avg Loss: 0.2543, Avg Acc: 0.8947\n",
      "[Epoch 280] Avg Loss: 0.2556, Avg Acc: 0.8931\n",
      "[Epoch 290] Avg Loss: 0.2480, Avg Acc: 0.8971\n",
      "[Epoch 300] Avg Loss: 0.2381, Avg Acc: 0.9032\n",
      "[Epoch 310] Avg Loss: 0.2343, Avg Acc: 0.9039\n",
      "[Epoch 320] Avg Loss: 0.3340, Avg Acc: 0.8551\n",
      "[Epoch 330] Avg Loss: 0.2991, Avg Acc: 0.8727\n",
      "[Epoch 340] Avg Loss: 0.2682, Avg Acc: 0.8862\n",
      "[Epoch 350] Avg Loss: 0.2508, Avg Acc: 0.8955\n",
      "[Epoch 360] Avg Loss: 0.2387, Avg Acc: 0.9013\n",
      "[Epoch 370] Avg Loss: 0.2328, Avg Acc: 0.9064\n",
      "[Epoch 380] Avg Loss: 0.2349, Avg Acc: 0.9040\n",
      "[Epoch 390] Avg Loss: 0.2298, Avg Acc: 0.9062\n",
      "[Epoch 400] Avg Loss: 0.2254, Avg Acc: 0.9088\n",
      "[Epoch 410] Avg Loss: 0.2156, Avg Acc: 0.9118\n",
      "[Epoch 420] Avg Loss: 0.2221, Avg Acc: 0.9100\n",
      "[Epoch 430] Avg Loss: 0.2076, Avg Acc: 0.9168\n",
      "[Epoch 440] Avg Loss: 0.2146, Avg Acc: 0.9138\n",
      "[Epoch 450] Avg Loss: 0.2155, Avg Acc: 0.9126\n",
      "[Epoch 460] Avg Loss: 0.2075, Avg Acc: 0.9169\n",
      "[Epoch 470] Avg Loss: 0.2011, Avg Acc: 0.9184\n",
      "[Epoch 480] Avg Loss: 0.2021, Avg Acc: 0.9185\n",
      "[Epoch 490] Avg Loss: 0.2085, Avg Acc: 0.9161\n",
      "[Epoch 500] Avg Loss: 0.1959, Avg Acc: 0.9208\n",
      "[Epoch 510] Avg Loss: 0.1865, Avg Acc: 0.9245\n",
      "[Epoch 520] Avg Loss: 0.1908, Avg Acc: 0.9230\n",
      "[Epoch 530] Avg Loss: 0.1985, Avg Acc: 0.9199\n",
      "[Epoch 540] Avg Loss: 0.1866, Avg Acc: 0.9252\n",
      "[Epoch 550] Avg Loss: 0.1905, Avg Acc: 0.9232\n",
      "[Epoch 560] Avg Loss: 0.1802, Avg Acc: 0.9287\n",
      "[Epoch 570] Avg Loss: 0.1754, Avg Acc: 0.9294\n",
      "[Epoch 580] Avg Loss: 0.1789, Avg Acc: 0.9282\n",
      "[Epoch 590] Avg Loss: 0.1917, Avg Acc: 0.9233\n",
      "[Epoch 600] Avg Loss: 0.2115, Avg Acc: 0.9145\n",
      "[Epoch 610] Avg Loss: 0.1863, Avg Acc: 0.9261\n",
      "[Epoch 620] Avg Loss: 0.4133, Avg Acc: 0.8316\n",
      "[Epoch 630] Avg Loss: 0.2406, Avg Acc: 0.9001\n",
      "[Epoch 640] Avg Loss: 0.2091, Avg Acc: 0.9148\n",
      "[Epoch 650] Avg Loss: 0.2123, Avg Acc: 0.9131\n",
      "[Epoch 660] Avg Loss: 0.2037, Avg Acc: 0.9198\n",
      "[Epoch 670] Avg Loss: 0.1974, Avg Acc: 0.9207\n",
      "[Epoch 680] Avg Loss: 0.1913, Avg Acc: 0.9233\n",
      "[Epoch 690] Avg Loss: 0.1901, Avg Acc: 0.9243\n",
      "[Epoch 700] Avg Loss: 0.1811, Avg Acc: 0.9284\n",
      "[Epoch 710] Avg Loss: 0.1778, Avg Acc: 0.9298\n",
      "[Epoch 720] Avg Loss: 0.1737, Avg Acc: 0.9325\n",
      "[Epoch 730] Avg Loss: 0.2581, Avg Acc: 0.8953\n",
      "[Epoch 740] Avg Loss: 0.1698, Avg Acc: 0.9335\n",
      "[Epoch 750] Avg Loss: 0.1664, Avg Acc: 0.9344\n",
      "[Epoch 760] Avg Loss: 0.1777, Avg Acc: 0.9291\n",
      "[Epoch 770] Avg Loss: 0.1847, Avg Acc: 0.9276\n",
      "[Epoch 780] Avg Loss: 0.1663, Avg Acc: 0.9349\n",
      "[Epoch 790] Avg Loss: 0.1683, Avg Acc: 0.9343\n",
      "[Epoch 800] Avg Loss: 0.1685, Avg Acc: 0.9335\n",
      "[Epoch 810] Avg Loss: 0.1629, Avg Acc: 0.9363\n",
      "[Epoch 820] Avg Loss: 0.1561, Avg Acc: 0.9395\n",
      "[Epoch 830] Avg Loss: 0.1545, Avg Acc: 0.9394\n",
      "[Epoch 840] Avg Loss: 0.1476, Avg Acc: 0.9423\n",
      "[Epoch 850] Avg Loss: 0.1600, Avg Acc: 0.9379\n",
      "[Epoch 860] Avg Loss: 0.1485, Avg Acc: 0.9424\n",
      "[Epoch 870] Avg Loss: 0.1454, Avg Acc: 0.9443\n",
      "[Epoch 880] Avg Loss: 0.1411, Avg Acc: 0.9457\n",
      "[Epoch 890] Avg Loss: 0.1410, Avg Acc: 0.9456\n",
      "[Epoch 900] Avg Loss: 0.1401, Avg Acc: 0.9458\n",
      "[Epoch 910] Avg Loss: 0.1392, Avg Acc: 0.9461\n",
      "[Epoch 920] Avg Loss: 0.1440, Avg Acc: 0.9451\n",
      "[Epoch 930] Avg Loss: 0.1395, Avg Acc: 0.9467\n",
      "[Epoch 940] Avg Loss: 0.1368, Avg Acc: 0.9483\n",
      "[Epoch 950] Avg Loss: 0.1345, Avg Acc: 0.9475\n",
      "[Epoch 960] Avg Loss: 0.1336, Avg Acc: 0.9491\n",
      "[Epoch 970] Avg Loss: 0.1363, Avg Acc: 0.9482\n",
      "[Epoch 980] Avg Loss: 0.1279, Avg Acc: 0.9511\n",
      "[Epoch 990] Avg Loss: 0.1372, Avg Acc: 0.9469\n",
      "[Epoch 1000] Avg Loss: 0.1267, Avg Acc: 0.9505\n",
      "[Epoch 1010] Avg Loss: 0.1436, Avg Acc: 0.9440\n",
      "[Epoch 1020] Avg Loss: 0.1304, Avg Acc: 0.9493\n",
      "[Epoch 1030] Avg Loss: 0.1333, Avg Acc: 0.9493\n",
      "[Epoch 1040] Avg Loss: 0.1338, Avg Acc: 0.9493\n",
      "[Epoch 1050] Avg Loss: 0.1258, Avg Acc: 0.9505\n",
      "[Epoch 1060] Avg Loss: 0.1208, Avg Acc: 0.9532\n",
      "[Epoch 1070] Avg Loss: 0.1212, Avg Acc: 0.9536\n",
      "[Epoch 1080] Avg Loss: 0.1908, Avg Acc: 0.9257\n",
      "[Epoch 1090] Avg Loss: 0.1234, Avg Acc: 0.9542\n",
      "[Epoch 1100] Avg Loss: 0.1234, Avg Acc: 0.9531\n",
      "[Epoch 1110] Avg Loss: 0.1147, Avg Acc: 0.9554\n",
      "[Epoch 1120] Avg Loss: 0.1195, Avg Acc: 0.9532\n",
      "[Epoch 1130] Avg Loss: 0.1166, Avg Acc: 0.9556\n",
      "[Epoch 1140] Avg Loss: 0.1316, Avg Acc: 0.9493\n",
      "[Epoch 1150] Avg Loss: 0.1227, Avg Acc: 0.9529\n",
      "[Epoch 1160] Avg Loss: 0.1241, Avg Acc: 0.9529\n",
      "[Epoch 1170] Avg Loss: 0.1528, Avg Acc: 0.9405\n",
      "[Epoch 1180] Avg Loss: 0.1237, Avg Acc: 0.9529\n",
      "[Epoch 1190] Avg Loss: 0.1300, Avg Acc: 0.9503\n",
      "[Epoch 1200] Avg Loss: 0.1386, Avg Acc: 0.9467\n",
      "[Epoch 1210] Avg Loss: 0.1196, Avg Acc: 0.9544\n",
      "[Epoch 1220] Avg Loss: 0.1160, Avg Acc: 0.9551\n",
      "[Epoch 1230] Avg Loss: 0.1178, Avg Acc: 0.9545\n",
      "[Epoch 1240] Avg Loss: 0.1183, Avg Acc: 0.9547\n",
      "[Epoch 1250] Avg Loss: 0.1174, Avg Acc: 0.9545\n",
      "[Epoch 1260] Avg Loss: 0.1139, Avg Acc: 0.9562\n",
      "[Epoch 1270] Avg Loss: 0.1120, Avg Acc: 0.9558\n",
      "[Epoch 1280] Avg Loss: 0.1097, Avg Acc: 0.9583\n",
      "[Epoch 1290] Avg Loss: 0.1169, Avg Acc: 0.9552\n",
      "[Epoch 1300] Avg Loss: 0.1122, Avg Acc: 0.9568\n",
      "[Epoch 1310] Avg Loss: 0.1058, Avg Acc: 0.9584\n",
      "[Epoch 1320] Avg Loss: 0.1137, Avg Acc: 0.9554\n",
      "[Epoch 1330] Avg Loss: 0.1039, Avg Acc: 0.9599\n",
      "[Epoch 1340] Avg Loss: 0.1112, Avg Acc: 0.9562\n",
      "[Epoch 1350] Avg Loss: 0.1069, Avg Acc: 0.9595\n",
      "[Epoch 1360] Avg Loss: 0.1019, Avg Acc: 0.9606\n",
      "[Epoch 1370] Avg Loss: 0.1105, Avg Acc: 0.9574\n",
      "[Epoch 1380] Avg Loss: 0.1023, Avg Acc: 0.9603\n",
      "[Epoch 1390] Avg Loss: 0.1072, Avg Acc: 0.9585\n",
      "[Epoch 1400] Avg Loss: 0.1542, Avg Acc: 0.9411\n",
      "[Epoch 1410] Avg Loss: 0.1094, Avg Acc: 0.9584\n",
      "[Epoch 1420] Avg Loss: 0.1045, Avg Acc: 0.9597\n",
      "[Epoch 1430] Avg Loss: 0.1135, Avg Acc: 0.9559\n",
      "[Epoch 1440] Avg Loss: 0.1038, Avg Acc: 0.9600\n",
      "[Epoch 1450] Avg Loss: 0.1003, Avg Acc: 0.9614\n",
      "[Epoch 1460] Avg Loss: 0.1150, Avg Acc: 0.9552\n",
      "[Epoch 1470] Avg Loss: 0.1008, Avg Acc: 0.9618\n",
      "[Epoch 1480] Avg Loss: 0.1065, Avg Acc: 0.9590\n",
      "[Epoch 1490] Avg Loss: 0.1025, Avg Acc: 0.9610\n",
      "[Epoch 1500] Avg Loss: 0.1031, Avg Acc: 0.9610\n",
      "[Epoch 1510] Avg Loss: 0.0971, Avg Acc: 0.9616\n",
      "[Epoch 1520] Avg Loss: 0.0969, Avg Acc: 0.9645\n",
      "[Epoch 1530] Avg Loss: 0.1018, Avg Acc: 0.9615\n",
      "[Epoch 1540] Avg Loss: 0.0970, Avg Acc: 0.9620\n",
      "[Epoch 1550] Avg Loss: 0.1052, Avg Acc: 0.9600\n",
      "[Epoch 1560] Avg Loss: 0.0972, Avg Acc: 0.9630\n",
      "[Epoch 1570] Avg Loss: 0.0889, Avg Acc: 0.9662\n",
      "[Epoch 1580] Avg Loss: 0.1317, Avg Acc: 0.9488\n",
      "[Epoch 1590] Avg Loss: 0.1038, Avg Acc: 0.9599\n",
      "[Epoch 1600] Avg Loss: 0.0953, Avg Acc: 0.9622\n",
      "[Epoch 1610] Avg Loss: 0.0928, Avg Acc: 0.9657\n",
      "[Epoch 1620] Avg Loss: 0.1011, Avg Acc: 0.9612\n",
      "[Epoch 1630] Avg Loss: 0.0951, Avg Acc: 0.9647\n",
      "[Epoch 1640] Avg Loss: 0.0923, Avg Acc: 0.9635\n",
      "[Epoch 1650] Avg Loss: 0.0904, Avg Acc: 0.9656\n",
      "[Epoch 1660] Avg Loss: 0.0923, Avg Acc: 0.9660\n",
      "[Epoch 1670] Avg Loss: 0.1055, Avg Acc: 0.9635\n",
      "[Epoch 1680] Avg Loss: 0.0909, Avg Acc: 0.9648\n",
      "[Epoch 1690] Avg Loss: 0.0880, Avg Acc: 0.9655\n",
      "[Epoch 1700] Avg Loss: 0.0845, Avg Acc: 0.9673\n",
      "[Epoch 1710] Avg Loss: 0.0846, Avg Acc: 0.9674\n",
      "[Epoch 1720] Avg Loss: 0.0877, Avg Acc: 0.9668\n",
      "[Epoch 1730] Avg Loss: 0.0933, Avg Acc: 0.9642\n",
      "[Epoch 1740] Avg Loss: 0.1016, Avg Acc: 0.9614\n",
      "[Epoch 1750] Avg Loss: 0.0883, Avg Acc: 0.9666\n",
      "[Epoch 1760] Avg Loss: 0.0884, Avg Acc: 0.9656\n",
      "[Epoch 1770] Avg Loss: 0.0860, Avg Acc: 0.9665\n",
      "[Epoch 1780] Avg Loss: 0.0887, Avg Acc: 0.9656\n",
      "[Epoch 1790] Avg Loss: 0.0809, Avg Acc: 0.9686\n",
      "[Epoch 1800] Avg Loss: 0.0844, Avg Acc: 0.9680\n",
      "[Epoch 1810] Avg Loss: 0.0827, Avg Acc: 0.9676\n",
      "[Epoch 1820] Avg Loss: 0.1192, Avg Acc: 0.9550\n",
      "[Epoch 1830] Avg Loss: 0.1047, Avg Acc: 0.9607\n",
      "[Epoch 1840] Avg Loss: 0.1121, Avg Acc: 0.9571\n",
      "[Epoch 1850] Avg Loss: 0.0998, Avg Acc: 0.9623\n",
      "[Epoch 1860] Avg Loss: 0.0947, Avg Acc: 0.9638\n",
      "[Epoch 1870] Avg Loss: 0.0844, Avg Acc: 0.9664\n",
      "[Epoch 1880] Avg Loss: 0.0909, Avg Acc: 0.9653\n",
      "[Epoch 1890] Avg Loss: 0.0945, Avg Acc: 0.9626\n",
      "[Epoch 1900] Avg Loss: 0.0926, Avg Acc: 0.9650\n",
      "[Epoch 1910] Avg Loss: 0.0884, Avg Acc: 0.9671\n",
      "[Epoch 1920] Avg Loss: 0.0883, Avg Acc: 0.9668\n",
      "[Epoch 1930] Avg Loss: 0.0967, Avg Acc: 0.9628\n",
      "[Epoch 1940] Avg Loss: 0.0858, Avg Acc: 0.9668\n",
      "[Epoch 1950] Avg Loss: 0.0826, Avg Acc: 0.9675\n",
      "[Epoch 1960] Avg Loss: 0.0825, Avg Acc: 0.9691\n",
      "[Epoch 1970] Avg Loss: 0.0821, Avg Acc: 0.9680\n",
      "[Epoch 1980] Avg Loss: 0.0789, Avg Acc: 0.9689\n",
      "[Epoch 1990] Avg Loss: 0.0834, Avg Acc: 0.9681\n",
      "[Epoch 2000] Avg Loss: 0.0852, Avg Acc: 0.9676\n"
     ]
    }
   ],
   "source": [
    "device = torch.device(\"cuda\" if torch.cuda.is_available() else \"cpu\")\n",
    "\n",
    "model = DNN().to(device)\n",
    "optimizer = optim.Adam(model.parameters(), lr=0.0001)  # much safer LR (not 0.1!)\n",
    "criterion = nn.BCELoss()\n",
    "\n",
    "num_epochs = 2000\n",
    "loss_values = []\n",
    "acc_values = []\n",
    "\n",
    "for epoch in range(num_epochs):\n",
    "    model.train()\n",
    "    running_loss = 0.0\n",
    "    correct_preds = 0\n",
    "    total_preds = 0\n",
    "\n",
    "    for batch_idx, (xb, yb) in enumerate(train_loader):\n",
    "        xb = xb.to(device)  # move input to GPU\n",
    "        yb = yb.to(device)\n",
    "    \n",
    "        optimizer.zero_grad()\n",
    "        preds = model(xb)\n",
    "        \n",
    "        loss = criterion(preds, yb.unsqueeze(1))  # important: use raw preds for loss\n",
    "        loss.backward()\n",
    "        optimizer.step()\n",
    "\n",
    "        running_loss += loss.item()\n",
    "\n",
    "        preds_rounded = preds.round()\n",
    "        correct_preds += (preds_rounded == yb.unsqueeze(1)).sum().item()\n",
    "        total_preds += yb.size(0)\n",
    "\n",
    "        # compute batch accuracy\n",
    "        batch_acc = (preds_rounded == yb.unsqueeze(1)).float().mean().item()\n",
    "\n",
    "        # Print per batch\n",
    "        #print(f\"Batch {batch_idx+1}/{len(train_loader)} — Loss: {loss.item():.4f}, Batch Acc: {batch_acc:.4f}\")\n",
    "\n",
    "    # Epoch summary\n",
    "    avg_loss = running_loss / len(train_loader)\n",
    "    avg_acc = correct_preds / total_preds\n",
    "\n",
    "    # Save loss and accuracy\n",
    "    if (epoch + 1) % 10 == 0:\n",
    "        loss_values.append(avg_loss)\n",
    "        acc_values.append(avg_acc)\n",
    "\n",
    "    # Print every 100 epochs\n",
    "    if (epoch + 1) % 10 == 0:\n",
    "        print(f\"[Epoch {epoch+1}] Avg Loss: {avg_loss:.4f}, Avg Acc: {avg_acc:.4f}\")\n"
   ]
  },
  {
   "cell_type": "code",
   "execution_count": 38,
   "metadata": {},
   "outputs": [
    {
     "data": {
      "image/png": "[encoded data removed]",
      "text/plain": [
       "<Figure size 640x480 with 1 Axes>"
      ]
     },
     "metadata": {},
     "output_type": "display_data"
    },
    {
     "data": {
      "image/png": "[encoded data removed]",
      "text/plain": [
       "<Figure size 640x480 with 1 Axes>"
      ]
     },
     "metadata": {},
     "output_type": "display_data"
    }
   ],
   "source": [
    "from typing import List\n",
    "import matplotlib.pyplot as plt\n",
    "def plot_loss(loss_values: List[float]):\n",
    "    plt.plot(loss_values)\n",
    "    plt.xlabel('Epoch')\n",
    "    plt.ylabel('Loss')\n",
    "    plt.title('Training Loss Curve')\n",
    "    plt.show()\n",
    "    \n",
    "def plot_acc(acc_values: List[float]):\n",
    "    plt.plot(acc_values)\n",
    "    plt.xlabel('Epoch')\n",
    "    plt.ylabel('Accuracy')\n",
    "    plt.title('Training Accuracy Curve')\n",
    "    plt.show()\n",
    "\n",
    "plot_loss(loss_values)\n",
    "plot_acc(acc_values)"
   ]
  },
  {
   "cell_type": "code",
   "execution_count": 39,
   "metadata": {},
   "outputs": [],
   "source": [
    "torch.save(model.state_dict(), \"dnn_model.pth\")"
   ]
  },
  {
   "cell_type": "code",
   "execution_count": 4,
   "metadata": {},
   "outputs": [
    {
     "name": "stdout",
     "output_type": "stream",
     "text": [
      "DNN(\n",
      "  (net): Sequential(\n",
      "    (0): Linear(in_features=2351, out_features=1024, bias=True)\n",
      "    (1): ReLU()\n",
      "    (2): BatchNorm1d(1024, eps=1e-05, momentum=0.1, affine=True, track_running_stats=True)\n",
      "    (3): Linear(in_features=1024, out_features=512, bias=True)\n",
      "    (4): ReLU()\n",
      "    (5): BatchNorm1d(512, eps=1e-05, momentum=0.1, affine=True, track_running_stats=True)\n",
      "    (6): Linear(in_features=512, out_features=256, bias=True)\n",
      "    (7): ReLU()\n",
      "    (8): BatchNorm1d(256, eps=1e-05, momentum=0.1, affine=True, track_running_stats=True)\n",
      "    (9): Linear(in_features=256, out_features=128, bias=True)\n",
      "    (10): ReLU()\n",
      "    (11): BatchNorm1d(128, eps=1e-05, momentum=0.1, affine=True, track_running_stats=True)\n",
      "    (12): Linear(in_features=128, out_features=1, bias=True)\n",
      "    (13): Sigmoid()\n",
      "  )\n",
      ")\n"
     ]
    }
   ],
   "source": [
    "import torch\n",
    "device = torch.device(\"cuda\" if torch.cuda.is_available() else \"cpu\")\n",
    "model = DNN().to(device)\n",
    "model.load_state_dict(torch.load(\"dnn_model.pth\"))\n",
    "print(model)"
   ]
  },
  {
   "cell_type": "code",
   "execution_count": 8,
   "metadata": {},
   "outputs": [
    {
     "name": "stdout",
     "output_type": "stream",
     "text": [
      "(20000, 2351)\n"
     ]
    }
   ],
   "source": [
    "import numpy as np\n",
    "\n",
    "#np.savez(\"test_data1.npz\", X_test=X1_test, y_test=y1_test)\n",
    "\n",
    "# Load later\n",
    "data = np.load(\"test_data.npz\")\n",
    "X_test_loaded = data[\"X_test\"]\n",
    "y_test_loaded = data[\"y_test\"]\n",
    "\n",
    "print(X_test_loaded.shape)"
   ]
  },
  {
   "cell_type": "code",
   "execution_count": 9,
   "metadata": {},
   "outputs": [],
   "source": [
    "from torch.utils.data import TensorDataset, DataLoader\n",
    "\n",
    "X_test_tensor = torch.from_numpy(X_test_loaded).float()\n",
    "y_test_tensor = torch.from_numpy(y_test_loaded).float()\n",
    "\n",
    "test_dataset = TensorDataset(X_test_tensor, y_test_tensor)\n",
    "test_loader = DataLoader(test_dataset, batch_size=1024, shuffle=False)\n"
   ]
  },
  {
   "cell_type": "code",
   "execution_count": 10,
   "metadata": {},
   "outputs": [],
   "source": [
    "from sklearn.metrics import roc_curve, roc_auc_score\n",
    "import numpy as np\n",
    "\n",
    "model.eval()\n",
    "all_probs = []\n",
    "all_labels = []\n",
    "\n",
    "with torch.no_grad():\n",
    "    for xb, yb in test_loader:\n",
    "        xb = xb.to(device)\n",
    "        yb = yb.to(device)\n",
    "        probs = model(xb).squeeze()  # probs are between 0 and 1 due to sigmoid\n",
    "        all_probs.append(probs.cpu().numpy())\n",
    "        all_labels.append(yb.cpu().numpy())\n",
    "\n",
    "# Concatenate\n",
    "all_probs = np.concatenate(all_probs)\n",
    "all_labels = np.concatenate(all_labels)\n"
   ]
  },
  {
   "cell_type": "code",
   "execution_count": 11,
   "metadata": {},
   "outputs": [
    {
     "name": "stdout",
     "output_type": "stream",
     "text": [
      "AUC Score: 0.7480\n"
     ]
    },
    {
     "data": {
      "image/png": "[encoded data removed]",
      "text/plain": [
       "<Figure size 640x480 with 1 Axes>"
      ]
     },
     "metadata": {},
     "output_type": "display_data"
    }
   ],
   "source": [
    "fpr, tpr, thresholds = roc_curve(all_labels, all_probs)\n",
    "auc_score = roc_auc_score(all_labels, all_probs)\n",
    "\n",
    "print(f\"AUC Score: {auc_score:.4f}\")\n",
    "\n",
    "# Optionally: plot the ROC curve\n",
    "import matplotlib.pyplot as plt\n",
    "\n",
    "plt.plot(fpr, tpr, label=f'AUC = {auc_score:.4f}')\n",
    "plt.plot([0, 1], [0, 1], 'k--')  # Diagonal\n",
    "plt.xlabel(\"False Positive Rate\")\n",
    "plt.ylabel(\"True Positive Rate\")\n",
    "plt.title(\"ROC Curve\")\n",
    "plt.legend()\n",
    "plt.grid(True)\n",
    "plt.show()\n"
   ]
  },
  {
   "cell_type": "code",
   "execution_count": 12,
   "metadata": {},
   "outputs": [
    {
     "name": "stdout",
     "output_type": "stream",
     "text": [
      "Accuracy : 0.63295\n",
      "Precision: 0.5900876064448937\n",
      "Recall   : 0.9367827270958957\n",
      "F1 Score : 0.7240744221011088\n"
     ]
    }
   ],
   "source": [
    "from sklearn.metrics import accuracy_score, precision_score, recall_score, f1_score\n",
    "\n",
    "# Convert probabilities to binary predictions\n",
    "y_pred = (all_probs >= 0.5).astype(int)\n",
    "\n",
    "print(\"Accuracy :\", accuracy_score(all_labels, y_pred))\n",
    "print(\"Precision:\", precision_score(all_labels, y_pred))\n",
    "print(\"Recall   :\", recall_score(all_labels, y_pred))\n",
    "print(\"F1 Score :\", f1_score(all_labels, y_pred))\n"
   ]
  },
  {
   "cell_type": "code",
   "execution_count": 13,
   "metadata": {},
   "outputs": [
    {
     "data": {
      "text/plain": [
       "<sklearn.metrics._plot.confusion_matrix.ConfusionMatrixDisplay at 0x24f182e1d60>"
      ]
     },
     "execution_count": 13,
     "metadata": {},
     "output_type": "execute_result"
    },
    {
     "data": {
      "image/png": "[encoded data removed]",
      "text/plain": [
       "<Figure size 640x480 with 2 Axes>"
      ]
     },
     "metadata": {},
     "output_type": "display_data"
    }
   ],
   "source": [
    "from sklearn.metrics import confusion_matrix, ConfusionMatrixDisplay\n",
    "\n",
    "cm = confusion_matrix(all_labels, y_pred)\n",
    "disp = ConfusionMatrixDisplay(confusion_matrix=cm)\n",
    "disp.plot(cmap='Blues')\n"
   ]
  },
  {
   "cell_type": "code",
   "execution_count": 15,
   "metadata": {},
   "outputs": [
    {
     "name": "stdout",
     "output_type": "stream",
     "text": [
      "Feature vector shape: (2351,)\n",
      "SHA256 of file: 6f7020dfb05bc93e6a9b1b6f43ed99dd36c0692ecbbe8483d1f3ac08ff3d96aa\n",
      "Extracted features:  {'WININET.dll': ['InternetOpenA', 'InternetCloseHandle', 'InternetCanonicalizeUrlA', 'InternetReadFile', 'HttpOpenRequestA', 'HttpSendRequestA', 'InternetConnectA', 'HttpQueryInfoA', 'InternetGetConnectedState', 'InternetCrackUrlA'], 'd3d11.dll': ['D3D11CreateDevice'], 'dbghelp.dll': ['MiniDumpWriteDump'], 'WINMM.dll': ['joyGetPosEx', 'joyGetPos', 'mciSendStringA', 'timeGetTime', 'timeEndPeriod', 'timeGetDevCaps', 'timeBeginPeriod'], 'WS2_32.dll': ['ordinal115', 'ordinal23', 'ordinal21', 'ordinal20', 'ordinal19', 'ordinal18', 'ordinal17', 'ordinal16', 'ordinal111', 'ordinal13', 'ordinal11', 'ordinal7', 'ordinal10', 'ordinal4', 'ordinal3', 'ordinal2', 'ordinal1', 'ordinal12', 'ordinal8', 'getaddrinfo', 'freeaddrinfo', 'ordinal5', 'ordinal151', 'ordinal15', 'ordinal9'], 'gdiplus.dll': ['GdiplusStartup', 'GdiplusShutdown'], 'COMCTL32.dll': ['InitCommonControlsEx'], 'KERNEL32.dll': ['SetStdHandle', 'GetTimeZoneInformation', 'HeapReAlloc', 'ReadConsoleW', 'SetFilePointerEx', 'GetFileSizeEx', 'GetConsoleMode', 'GetConsoleOutputCP', 'FlushFileBuffers', 'EnumSystemLocalesW', 'IsValidLocale', 'LCMapStringW', 'CompareStringW', 'GetTimeFormatW', 'GetDateFormatW', 'WriteFile', 'GetStdHandle', 'PeekNamedPipe', 'GetFileType', 'GetFileInformationByHandle', 'GetDriveTypeW', 'HeapWalk', 'HeapValidate', 'MoveFileExW', 'SetFileAttributesW', 'GetFileAttributesExW', 'FileTimeToSystemTime', 'SystemTimeToTzSpecificLocalTime', 'FindFirstFileExW', 'GetModuleHandleExW', 'RtlUnwind', 'LoadLibraryExW', 'RtlPcToFileHeader', 'RtlUnwindEx', 'GetProcessHeap', 'HeapFree', 'HeapAlloc', 'RaiseException', 'InitializeSListHead', 'GetStartupInfoW', 'IsDebuggerPresent', 'IsProcessorFeaturePresent', 'TerminateProcess', 'IsValidCodePage', 'OutputDebugStringA', 'GetCurrentProcess', 'K32GetProcessMemoryInfo', 'GetCommandLineW', 'ExpandEnvironmentStringsW', 'CreateDirectoryW', 'CreateFileW', 'GetFinalPathNameByHandleW', 'GetFullPathNameW', 'CloseHandle', 'SetUnhandledExceptionFilter', 'GetLastError', 'SetErrorMode', 'Sleep', 'GetCurrentProcessId', 'GetCurrentThreadId', 'GetModuleFileNameW', 'GetModuleHandleW', 'MoveFileA', 'MultiByteToWideChar', 'WideCharToMultiByte', 'GetEnvironmentVariableW', 'GetCurrentDirectoryW', 'DeleteFileW', 'FindClose', 'FindFirstFileW', 'FindNextFileW', 'GetFileAttributesW', 'RemoveDirectoryW', 'GetProcAddress', 'LoadLibraryW', 'SetLastError', 'CreateThread', 'GetExitCodeThread', 'GetACP', 'FormatMessageW', 'GetVersionExW', 'GetLocaleInfoW', 'GetUserDefaultLCID', 'GetConsoleWindow', 'SetCurrentDirectoryA', 'GetCurrentDirectoryA', 'GetFileSize', 'ReadFile', 'SetFilePointer', 'FreeLibrary', 'FormatMessageA', 'QueryPerformanceCounter', 'QueryPerformanceFrequency', 'WaitForSingleObject', 'SetWaitableTimer', 'CreateWaitableTimerW', 'GetTickCount64', 'EnterCriticalSection', 'LeaveCriticalSection', 'InitializeCriticalSectionAndSpinCount', 'DeleteCriticalSection', 'SetThreadPriority', 'TlsAlloc', 'TlsGetValue', 'TlsSetValue', 'TlsFree', 'GetFileAttributesA', 'GlobalAlloc', 'GlobalUnlock', 'GlobalLock', 'VerSetConditionMask', 'VerifyVersionInfoW', 'ExitProcess', 'lstrlenA', 'WaitForSingleObjectEx', 'CreateEventExW', 'LoadLibraryA', 'DebugBreak', 'GetEnvironmentVariableA', 'GetSystemTimeAsFileTime', 'SleepConditionVariableSRW', 'SleepConditionVariableCS', 'WakeAllConditionVariable', 'WakeConditionVariable', 'InitializeConditionVariable', 'TryEnterCriticalSection', 'InitializeCriticalSectionEx', 'AcquireSRWLockExclusive', 'ReleaseSRWLockExclusive', 'InitializeSRWLock', 'GetNativeSystemInfo', 'EncodePointer', 'DecodePointer', 'LCMapStringEx', 'GetCPInfo', 'GetStringTypeW', 'SetEvent', 'ResetEvent', 'CreateEventW', 'RtlCaptureContext', 'RtlLookupFunctionEntry', 'RtlVirtualUnwind', 'GetOEMCP', 'GetCommandLineA', 'GetEnvironmentStringsW', 'FreeEnvironmentStringsW', 'SetEnvironmentVariableW', 'SetEndOfFile', 'HeapSize', 'LocalFree', 'WriteConsoleW', 'UnhandledExceptionFilter'], 'USER32.dll': ['IsClipboardFormatAvailable', 'EmptyClipboard', 'GetFocus', 'SetClipboardData', 'CloseClipboard', 'OpenClipboard', 'LoadImageW', 'LoadCursorW', 'MoveWindow', 'GetClipboardData', 'SetWindowTextW', 'ClientToScreen', 'MapWindowPoints', 'CreateDialogParamW', 'DialogBoxParamW', 'EndDialog', 'GetDlgItem', 'SetDlgItemTextW', 'GetDlgItemTextW', 'GetRawInputDeviceList', 'GetRawInputDeviceInfoA', 'SetDlgItemTextA', 'keybd_event', 'ScreenToClient', 'SetCursor', 'GetClientRect', 'SetForegroundWindow', 'ReleaseCapture', 'SetCapture', 'GetKeyState', 'BringWindowToTop', 'DestroyWindow', 'CreateWindowExW', 'RegisterClassExW', 'DefWindowProcW', 'ReleaseDC', 'GetDC', 'GetMonitorInfoW', 'MonitorFromWindow', 'EnumDisplaySettingsW', 'SetWindowLongPtrW', 'GetCursorPos', 'SetCursorPos', 'AdjustWindowRectEx', 'GetWindowRect', 'UpdateWindow', 'GetSystemMetrics', 'SetWindowPos', 'ShowWindow', 'SendMessageW', 'GetActiveWindow', 'MessageBoxW', 'SetProcessDPIAware', 'IsDialogMessageW', 'SetFocus', 'PostMessageW', 'PeekMessageW', 'DispatchMessageW', 'TranslateMessage', 'wsprintfW', 'MessageBoxA', 'GetAsyncKeyState', 'DrawTextW'], 'GDI32.dll': ['GetStockObject', 'GetDeviceCaps', 'SelectObject'], 'COMDLG32.dll': ['GetOpenFileNameW', 'GetSaveFileNameW'], 'ADVAPI32.dll': ['RegCloseKey', 'RegQueryValueExW', 'RegOpenKeyExW'], 'SHELL32.dll': ['SHGetFolderPathW', 'ShellExecuteW'], 'ole32.dll': ['CoCreateInstance', 'CoTaskMemFree', 'CoInitialize', 'CoCreateFreeThreadedMarshaler'], 'dxgi.dll': ['CreateDXGIFactory1'], 'RPCRT4.dll': ['UuidCreate', 'UuidToStringW'], 'MF.dll': ['MFCreateTopology', 'MFCreateTopologyNode', 'MFGetService', 'MFCreateAudioRendererActivate', 'MFCreateSampleGrabberSinkActivate', 'MFCreateMediaSession'], 'MFPlat.DLL': ['MFCreateMediaType', 'MFStartup', 'MFCreateSourceResolver'], 'dwmapi.dll': ['DwmGetCompositionTimingInfo'], 'VERSION.dll': ['GetFileVersionInfoW', 'GetFileVersionInfoSizeW', 'VerQueryValueW']}\n",
      "First 10 values of vector: [0.1996726  0.03091528 0.0127291  0.00549544 0.00419338 0.00631545\n",
      " 0.00638333 0.00324023 0.00698665 0.00371826 0.0053865  0.00396675\n",
      " 0.00845442 0.00415021 0.00625551 0.02467346 0.01028133 0.00373506\n",
      " 0.00074327 0.00081423 0.00107026 0.00922532 0.00091213 0.0010332\n",
      " 0.00169865 0.00155053 0.00089512 0.00079025 0.00222529 0.00088414\n",
      " 0.00078617 0.00437276 0.00550041 0.0008417  0.00107829 0.00285783\n",
      " 0.0083798  0.00084305 0.0006999  0.00070876 0.00527478 0.00411624\n",
      " 0.00111415 0.00088187 0.00208666 0.00070011 0.00255565 0.0007846\n",
      " 0.00771067 0.00210167 0.00139678 0.00121037 0.00123125 0.00107801\n",
      " 0.00081174 0.00072619 0.004      0.0008025  0.00097706 0.00093701\n",
      " 0.00126901 0.00068107 0.00067676 0.00100024 0.00408429 0.02033493\n",
      " 0.00142156 0.00110327 0.00617635 0.00586932 0.00552873 0.00099218\n",
      " 0.05072751 0.00229359 0.00074617 0.00078106 0.00636288 0.0026006\n",
      " 0.00069252 0.00080818 0.00719096 0.00066076 0.00109512 0.00355082\n",
      " 0.00675908 0.00691154 0.00615475 0.00646477 0.00263278 0.00077498\n",
      " 0.00069933 0.00224103 0.0029335  0.00422462 0.00375287 0.00447628\n",
      " 0.0052037  0.00136215 0.00253991 0.00126084]\n",
      "Probability of being malicious: 0.00%\n",
      "Predicted label: benign\n"
     ]
    }
   ],
   "source": [
    "import torch\n",
    "\n",
    "from feature_extractors.pe_feature import PEFeatureExtractor\n",
    "\n",
    "\n",
    "path = \"E:GAMES//WOH//worldofhorror.exe\"\n",
    "with open(path, \"rb\") as f:\n",
    "    bytez = f.read()\n",
    "extractor = PEFeatureExtractor()\n",
    "\n",
    "# Extract the raw feature dict\n",
    "raw = extractor.raw_features(bytez)\n",
    "\n",
    "# Turn it into a flat vector (normalized)\n",
    "vector = extractor.process_raw_features(raw)\n",
    "\n",
    "print(\"Feature vector shape:\", vector.shape)\n",
    "print(\"SHA256 of file:\", raw['sha256'])\n",
    "print(\"Extracted features: \", raw['imports'])\n",
    "print(\"First 10 values of vector:\", vector[:100])\n",
    "\n",
    "# Make sure your model is in eval mode\n",
    "model.eval()\n",
    "\n",
    "# Convert the file to a tensor and move to GPU (if used)\n",
    "file_tensor = torch.tensor(vector, dtype=torch.float32).unsqueeze(0).to(device)  # shape: [1, 2351]\n",
    "\n",
    "# Get the predicted probability\n",
    "with torch.no_grad():\n",
    "    prob = model(file_tensor).item()\n",
    "\n",
    "print(f\"Probability of being malicious: {prob * 100:.2f}%\")\n",
    "\n",
    "# Optionally get binary label\n",
    "label = 1 if prob > 0.5 else 0\n",
    "print(f\"Predicted label: {'malicious' if label else 'benign'}\")\n"
   ]
  }
 ],
 "metadata": {
  "kernelspec": {
   "display_name": "base",
   "language": "python",
   "name": "python3"
  },
  "language_info": {
   "codemirror_mode": {
    "name": "ipython",
    "version": 3
   },
   "file_extension": ".py",
   "mimetype": "text/x-python",
   "name": "python",
   "nbconvert_exporter": "python",
   "pygments_lexer": "ipython3",
   "version": "3.12.7"
  }
 },
 "nbformat": 4,
 "nbformat_minor": 2
}
