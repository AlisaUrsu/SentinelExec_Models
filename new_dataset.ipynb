{
 "cells": [
  {
   "cell_type": "code",
   "execution_count": 7,
   "id": "761e244e",
   "metadata": {},
   "outputs": [
    {
     "name": "stdout",
     "output_type": "stream",
     "text": [
      "Processed  files, saved to new_dataset_2351.jsonl\n"
     ]
    }
   ],
   "source": [
    "import os\n",
    "import json\n",
    "import lief\n",
    "import hashlib\n",
    "from tqdm import tqdm  # Optional for progress bars\n",
    "from feature_extractors.pe_feature import PEFeatureExtractor  # Import your feature extractor\n",
    "\n",
    "def process_safe_executables(file_path, output_file):\n",
    "\n",
    "    feature_extractor = PEFeatureExtractor()\n",
    "\n",
    "    with open(output_file, 'a') as out_f:\n",
    "        if os.path.isfile(file_path):\n",
    "            files_to_process = [file_path]\n",
    "        # Handle directory\n",
    "        elif os.path.isdir(file_path):\n",
    "            files_to_process = [\n",
    "                os.path.join(file_path, f) \n",
    "                for f in os.listdir(file_path) \n",
    "                if f.lower().endswith(('.exe', '.dll'))\n",
    "            ]\n",
    "        else:\n",
    "            raise ValueError(f\"Path {file_path} is neither file nor directory\")\n",
    "\n",
    "        for file_path in files_to_process:\n",
    "            try:\n",
    "                with open(file_path, 'rb') as f:\n",
    "                    bytez = f.read()\n",
    "\n",
    "                # Extract features\n",
    "                features = feature_extractor.raw_features(bytez)\n",
    "\n",
    "                out_f.write(json.dumps(features) + '\\n')\n",
    "\n",
    "            except lief.bad_format:\n",
    "                print(f\"Skipping {file_path}: Invalid PE format\")\n",
    "            except Exception as e:\n",
    "                print(f\"Error processing {file_path}: {str(e)}\")\n",
    "\n",
    "    print(f\"Processed  files, saved to {output_file}\")\n",
    "\n",
    "\n",
    "process_safe_executables(\n",
    "    file_path=\"C://Program Files (x86)//Steam//steamapps//common//Blasphemous 2//Blasphemous 2.exe\",\n",
    "    output_file=\"new_dataset_2351.jsonl\",\n",
    ")"
   ]
  },
  {
   "cell_type": "code",
   "execution_count": null,
   "id": "b15eefcf",
   "metadata": {},
   "outputs": [],
   "source": [
    "from zipfile import ZipFile\n",
    "\n",
    "\n",
    "def extract_zip(input_zip):\n",
    "    input_zip=ZipFile(input_zip)\n",
    "    return {name: input_zip.read(name) for name in input_zip.namelist()}\n",
    "\n",
    "print(extract_zip(\"D://Screenshot.zip\"))"
   ]
  },
  {
   "cell_type": "code",
   "execution_count": 2,
   "id": "fb2f8c15",
   "metadata": {},
   "outputs": [
    {
     "name": "stdout",
     "output_type": "stream",
     "text": [
      "net.0.weight — shape: torch.Size([2048, 2351])\n",
      "net.0.bias — shape: torch.Size([2048])\n",
      "net.2.weight — shape: torch.Size([2048])\n",
      "net.2.bias — shape: torch.Size([2048])\n",
      "net.2.running_mean — shape: torch.Size([2048])\n",
      "net.2.running_var — shape: torch.Size([2048])\n",
      "net.2.num_batches_tracked — shape: torch.Size([])\n",
      "net.3.weight — shape: torch.Size([2048, 2048])\n",
      "net.3.bias — shape: torch.Size([2048])\n",
      "net.5.weight — shape: torch.Size([2048])\n",
      "net.5.bias — shape: torch.Size([2048])\n",
      "net.5.running_mean — shape: torch.Size([2048])\n",
      "net.5.running_var — shape: torch.Size([2048])\n",
      "net.5.num_batches_tracked — shape: torch.Size([])\n",
      "net.6.weight — shape: torch.Size([1024, 2048])\n",
      "net.6.bias — shape: torch.Size([1024])\n",
      "net.8.weight — shape: torch.Size([1024])\n",
      "net.8.bias — shape: torch.Size([1024])\n",
      "net.8.running_mean — shape: torch.Size([1024])\n",
      "net.8.running_var — shape: torch.Size([1024])\n",
      "net.8.num_batches_tracked — shape: torch.Size([])\n",
      "net.9.weight — shape: torch.Size([1, 1024])\n",
      "net.9.bias — shape: torch.Size([1])\n"
     ]
    },
    {
     "name": "stderr",
     "output_type": "stream",
     "text": [
      "<>:5: SyntaxWarning: invalid escape sequence '\\L'\n",
      "<>:5: SyntaxWarning: invalid escape sequence '\\L'\n",
      "C:\\Users\\Alisa\\AppData\\Local\\Temp\\ipykernel_13948\\1540069490.py:5: SyntaxWarning: invalid escape sequence '\\L'\n",
      "  checkpoint = torch.load('D:\\Licenta\\MalwareAnalysis_Models\\models\\Model_BIG_v5.pth', map_location=device)\n"
     ]
    }
   ],
   "source": [
    "import torch\n",
    "\n",
    "device = torch.device(\"cuda\" if torch.cuda.is_available() else \"cpu\")\n",
    "# Load the checkpoint\n",
    "checkpoint = torch.load('D:\\Licenta\\MalwareAnalysis_Models\\models\\Model_BIG_v5.pth', map_location=device)\n",
    "\n",
    "# If it's a state_dict, list all keys and shapes\n",
    "if 'state_dict' in checkpoint:\n",
    "    state_dict = checkpoint['state_dict']\n",
    "else:\n",
    "    state_dict = checkpoint\n",
    "\n",
    "# Print each parameter name and shape\n",
    "for k, v in state_dict.items():\n",
    "    print(f\"{k} — shape: {v.shape}\")\n"
   ]
  }
 ],
 "metadata": {
  "kernelspec": {
   "display_name": "base",
   "language": "python",
   "name": "python3"
  },
  "language_info": {
   "codemirror_mode": {
    "name": "ipython",
    "version": 3
   },
   "file_extension": ".py",
   "mimetype": "text/x-python",
   "name": "python",
   "nbconvert_exporter": "python",
   "pygments_lexer": "ipython3",
   "version": "3.12.7"
  }
 },
 "nbformat": 4,
 "nbformat_minor": 5
}
